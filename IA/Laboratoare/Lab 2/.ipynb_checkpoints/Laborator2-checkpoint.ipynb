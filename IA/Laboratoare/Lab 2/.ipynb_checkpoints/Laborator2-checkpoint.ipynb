{
 "cells": [
  {
   "cell_type": "markdown",
   "id": "unusual-stranger",
   "metadata": {},
   "source": [
    "# Exercitii"
   ]
  },
  {
   "cell_type": "markdown",
   "id": "quantitative-individual",
   "metadata": {},
   "source": [
    "1. Se da o lista de numere. Sa se afiseze diferenta dintre: suma celor mai mari 3 numere si produsul celor mai mici 2 numere.\n",
    "\n",
    "lista = [10, 3, 5, 20, -4, 9, 1] -> 43\n",
    "\n",
    "lista = [0, -1, -2, -3 , -4] -> -15"
   ]
  },
  {
   "cell_type": "code",
   "execution_count": 7,
   "id": "81871ee4",
   "metadata": {},
   "outputs": [
    {
     "name": "stdout",
     "output_type": "stream",
     "text": [
      "43\n",
      "-15\n"
     ]
    }
   ],
   "source": [
    "lista1 = [10, 3, 5, 20, -4, 9, 1]\n",
    "lista2 = [0, -1, -2, -3 , -4]\n",
    "lista1_sortata = sorted(lista1)\n",
    "lista2_sortata = sorted(lista2)\n",
    "print (sum(lista1_sortata[-3:]) - lista1_sortata[0]*lista1_sortata[1])\n",
    "print (sum(lista2_sortata[-3:]) - lista2_sortata[0]*lista2_sortata[1])"
   ]
  },
  {
   "cell_type": "markdown",
   "id": "floppy-relation",
   "metadata": {},
   "source": [
    "2. Se da o lista de cuvinte. Sa se determine cuvintele unice (fara diferenta intre litere mici si mari) si de cate ori apare fiecare. Folositi un dictionar standard Python.\n",
    "\n",
    "Exemple:\n",
    "\n",
    "['mouse', 'and', 'branza', 'viezure', 'viezure', 'viezure', 'me', 'slow', 'mouse', 'This', 'mouse', 'out', 'in', 'want', 'branza', 'song', 'barza', 'barza', 'barza', 'makes', 'to', 'in', 'branza', 'run', 'motion'] -> \n",
    "{'mouse': 3,\n",
    " 'and': 1,\n",
    " 'branza': 3,\n",
    " 'viezure': 3,\n",
    " 'me': 1,\n",
    " 'slow': 1,\n",
    " 'This': 1,\n",
    " 'out': 1,\n",
    " 'in': 2,\n",
    " 'want': 1,\n",
    " 'song': 1,\n",
    " 'barza': 3,\n",
    " 'makes': 1,\n",
    " 'to': 1,\n",
    " 'run': 1,\n",
    " 'motion': 1}\n",
    " \n",
    "['doi', 'doi', 'trei', 'Trei', 'un'] ->\n",
    "{'doi': 2, 'trei': 2, 'un': 1}\n",
    "\n",
    "Cum se rezolva aceeasi problema folosind un un dictionar [Counter](https://docs.python.org/3/library/collections.html#collections.Counter)?"
   ]
  },
  {
   "cell_type": "code",
   "execution_count": 27,
   "id": "a1e3fa9e",
   "metadata": {},
   "outputs": [
    {
     "name": "stdout",
     "output_type": "stream",
     "text": [
      "{'mouse': 3, 'and': 1, 'branza': 3, 'viezure': 3, 'me': 1, 'slow': 1, 'this': 1, 'out': 1, 'in': 2, 'want': 1, 'song': 1, 'barza': 3, 'makes': 1, 'to': 1, 'run': 1, 'motion': 1}\n",
      "Counter({'mouse': 3, 'branza': 3, 'viezure': 3, 'barza': 3, 'in': 2, 'and': 1, 'me': 1, 'slow': 1, 'this': 1, 'out': 1, 'want': 1, 'song': 1, 'makes': 1, 'to': 1, 'run': 1, 'motion': 1})\n"
     ]
    }
   ],
   "source": [
    "lista = ['mouse', 'and', 'branza', 'viezure', 'viezure', 'viezure', 'me', 'slow', 'mouse', 'This', 'mouse', 'out', 'in', 'want', 'branza', 'song', 'barza', 'barza', 'barza', 'makes', 'to', 'in', 'branza', 'run', 'motion']\n",
    "my_dict = {}\n",
    "for key in lista:\n",
    "    my_dict[key.lower()] = my_dict.get(key.lower(), 0) + 1\n",
    "print (my_dict)\n",
    "\n",
    "#var cu Counter\n",
    "from collections import Counter\n",
    "lista_mica = [item.lower() for item in lista]\n",
    "my_dict2 = Counter(lista_mica)\n",
    "print(my_dict2)"
   ]
  },
  {
   "cell_type": "markdown",
   "id": "2949bf53",
   "metadata": {},
   "source": [
    "3. Scrieti o functie care determina daca un numar natural nenul este egal cu suma divizorilor sai, mai putin numarul insusi. \n",
    "\n",
    "Exemplu: divizorii lui 6 sunt 1, 2, 3, 6; suma celor mai mici decat 6 este 1+2+3=6=numarul de plecare. Numarul 8 nu este in aceasta situatie: $1+2+4=7 \\ne 8$. Folositi aceasta functie pentru a afisa toate numere cu proprietatea ceruta pana la un $n$ dat.\n",
    "\n",
    "Incercati o solutie cu collection comprehension sau vectorizare in NumPy."
   ]
  },
  {
   "cell_type": "code",
   "execution_count": 54,
   "id": "fe8b202c",
   "metadata": {},
   "outputs": [
    {
     "name": "stdout",
     "output_type": "stream",
     "text": [
      "Da\n",
      "Nu\n",
      "True\n"
     ]
    }
   ],
   "source": [
    "def func(n):\n",
    "    s = 0\n",
    "    for i in range(1, n//2 + 1):\n",
    "        if n % i == 0:\n",
    "            s += i\n",
    "    if s == n:\n",
    "        print('Da')\n",
    "    else:\n",
    "        print('Nu')\n",
    "\n",
    "func(6)\n",
    "func(8)\n",
    "\n",
    "#collection comprehension\n",
    "x = 6;\n",
    "lista_divizori = [i for i in range(1, x//2 + 1) if x % i == 0]\n",
    "print(sum(lista_divizori)==x)"
   ]
  },
  {
   "cell_type": "markdown",
   "id": "centered-drunk",
   "metadata": {},
   "source": [
    "4. Dandu-se o propozitie, sa se detemine transcrierea ei in \"pasareasca\" (o vocala se transforma in vocala + 'p' + vocala).\n",
    "\n",
    "Sa se scrie un program care face traducerea inversa (daca stringul dat provine din pasareasca; daca nu, semnaleaza acest lucru).\n",
    "\n",
    "Exemplu de traducere in pasareasca: acasa-apacapasapa, prietena-pripitepenapa.\n",
    "\n",
    "Incercati o solutie bazata pe collection comprehension. Un sir de caractere poate fi utilizat ca punct de plecare in collection comprehension, fiind vazut ca o colectie de simboluri:"
   ]
  },
  {
   "cell_type": "code",
   "execution_count": 59,
   "id": "3572a431",
   "metadata": {
    "ExecuteTime": {
     "end_time": "2022-03-03T07:13:31.748061Z",
     "start_time": "2022-03-03T07:13:31.738061Z"
    }
   },
   "outputs": [
    {
     "ename": "IndentationError",
     "evalue": "expected an indented block (Temp/ipykernel_3940/1688132152.py, line 12)",
     "output_type": "error",
     "traceback": [
      "\u001b[1;36m  File \u001b[1;32m\"C:\\Users\\gliza\\AppData\\Local\\Temp/ipykernel_3940/1688132152.py\"\u001b[1;36m, line \u001b[1;32m12\u001b[0m\n\u001b[1;33m    def este_pasareasca(strr):\u001b[0m\n\u001b[1;37m                              ^\u001b[0m\n\u001b[1;31mIndentationError\u001b[0m\u001b[1;31m:\u001b[0m expected an indented block\n"
     ]
    }
   ],
   "source": [
    "sir = \"Un sir de caractere\"\n",
    "print(f'Sirul e intrinsec o colectie: {list(sir)}')\n",
    "sir_dublat = [litera+litera for litera in sir]\n",
    "print(f'Fiecare caracter e dublat: {\"\".join(sir_dublat)}')\n",
    "sir_pasareasca = \"pripitepenapa\"\n",
    "\n",
    "def pasareasca(strr):\n",
    "    return {\"\".join([litera + 'p' + litera if litera in 'aeiouAEIOU' else litera for litera in strr])}\n",
    "\n",
    "print(pasareasca(sir))\n",
    "\n",
    "# def este_pasareasca(strr):\n",
    "#     for litera in strr[1:-3]:\n",
    "#         if litera in 'aeiouAEIOU':\n",
    "            \n",
    "        "
   ]
  },
  {
   "cell_type": "markdown",
   "id": "41657699",
   "metadata": {},
   "source": [
    "5. Scrieti o functie care determina daca un sir de caractere - presupus a fi scris cu litere mici - este sau nu palindrom. Un palindrom este un sir de caractere care citit de la dreapta la stanga are acelasi continut ca si citirea de la stanga la dreapta. In functie de valoarea unui indicator boolean `ignore_spaces`, avand valoarea implicita `False`, se vor ignora (elimina) sau nu spatiile. Daca sirul dat ca parametru nu are toate literele mici, se va arunca exceptie; [documentatie exceptii in Python](https://www.w3schools.com/python/gloss_python_raise.asp).\n",
    "\n",
    "Exemple:\n",
    "\n",
    "* `is_palindrome('ele fac cafele', ignore_spaces=True)` returneaza `True`; `is_palindrome('ele fac cafele')` returneaza `False`. `is_palindrome('Ele fac cafele')` arunca o exceptie, indiferent de valoarea lui `ignore_spaces`.\n",
    "*  `is_palindrome('abaac')` returneaza `False`"
   ]
  },
  {
   "cell_type": "code",
   "execution_count": 84,
   "id": "4df7029a",
   "metadata": {},
   "outputs": [
    {
     "name": "stdout",
     "output_type": "stream",
     "text": [
      "True\n"
     ]
    }
   ],
   "source": [
    "def is_palindrome(sir, ignore_spaces=True):\n",
    "    return sir.replace(\" \", \"\") == sir.replace(\" \", \"\")[::-1]\n",
    "print (is_palindrome('ele fac cafele'))"
   ]
  },
  {
   "cell_type": "markdown",
   "id": "9280a174",
   "metadata": {},
   "source": [
    "6. Construiti o functie care, primind o matrice, determina pe ce pozitii se afla valorile in afara unui\n",
    "interval $[min, max]$ dat prin parametri. Puteti folosi functia [`np.where`](https://numpy.org/doc/stable/reference/generated/numpy.where.html)."
   ]
  },
  {
   "cell_type": "markdown",
   "id": "cd9723e8",
   "metadata": {},
   "source": [
    "7. Pentru 2 matrice a si b, cu aceeasi forma, sa se determine pozitiile (i, j) pentru care a[i,j] > b[i, j]. Folositi calcul vectorizat sau sau functii NumPy."
   ]
  },
  {
   "cell_type": "markdown",
   "id": "9bfa803c",
   "metadata": {},
   "source": [
    "8. Sa se scrie o functie `pair_max` care preia doi vectori de aceeasi lungime si returneaza maximele pe pozitiile corespunzatoare:\n",
    "```python\n",
    "a = np.array([3, 7, 9, 13, -10, 200, 3])\n",
    "b = np.array([4, 5, -9, 100, 300, 230, 1])\n",
    "pair_max(a, b)\n",
    "#iesire dorita: \n",
    "array([  4,   7,   9, 100, 300, 230,   3])\n",
    "```. Functia va verifica print `assert` ca vectorii au lungimi egale. "
   ]
  },
  {
   "cell_type": "code",
   "execution_count": 61,
   "id": "f3adb509",
   "metadata": {},
   "outputs": [
    {
     "name": "stdout",
     "output_type": "stream",
     "text": [
      "[  4   7   9 100 300 230   3]\n",
      "[4, 7, 9, 100, 300, 230, 3]\n"
     ]
    }
   ],
   "source": [
    "import numpy as np\n",
    "a = np.array([3, 7, 9, 13, -10, 200, 3])\n",
    "b = np.array([4, 5, -9, 100, 300, 230, 1])\n",
    "\n",
    "mat = np.vstack((a, b))\n",
    "\n",
    "print (mat.max(axis=0))\n",
    "\n",
    "my_list = []\n",
    "for _a, _b in zip(a, b):\n",
    "    my_list.append(max(_a, _b))\n",
    "\n",
    "print(my_list)"
   ]
  },
  {
   "cell_type": "markdown",
   "id": "automotive-cartridge",
   "metadata": {},
   "source": [
    "9. Se da un dictionar in care cheile sunt nume de studenti, iar valorile sunt liste de carti preferate. Sa se determine:\n",
    "    1. Care sunt studentii care au in lista de preferinte o carte specificata?\n",
    "    2. Care sunt perechile de studenti care au aceleasi preferinte de carti (ordinea in lista de preferinte nu e relevanta)\n",
    "    3. Pentru un student dat, care sunt studentii cu care are cele mai multe carti comune in liste de preferinte; daca sunt mai multi astfel de studenti cei mai apropiati, se vor enumera toti.\n",
    "    4. Pentru doi studenti, A si B, care e lista de stergeri si adaugari prin care lista lui A devine identica cu lista lui B (ordinea in lista nefiind importanta)\n",
    "    5. Toate perechile de studenti A, B pentru care lista de preferinte a lui A este inclusa in (dar nu coincide cu) lista de preferinte a lui B. \n",
    "    \n",
    "Indicatie: considerati tipul de date set.\n",
    "\n",
    "Exemplu:\n",
    "```python\n",
    "preferinte = {\n",
    "    'Popescu': ['carte2', 'carte1', 'carte3', 'carte4'],\n",
    "    'Ionescu': ['carte1', 'carte2', 'carte3', 'carte7', 'alta carte'],\n",
    "    'Georgescu': ['carte1', 'alta carte'],\n",
    "    'Xulescu': ['carte2', 'carte5', 'carte6', 'carte7'],\n",
    "    'Dragomir': ['carte4', 'carte1', 'carte2', 'carte3']\n",
    "}\n",
    "```\n",
    "    1. carte = 'alta carte' -> ['Ionescu', 'Georgescu']\n",
    "    2. Popescu si Dragomir au aceleasi preferinte: ['carte2', 'carte1', 'carte3', 'carte4']. Se remarca faptul ca nu se afiseaza si perechea echivalenta: Dragomir si Popescu.\n",
    "    3. Xulescu -> Suprapunere maxima de preferinte: 2 cu colegii: ['Ionescu']\n",
    "    4. A='Popescu', B='Ionescu' -> Se vor adauga cartile: {'carte7', 'alta carte'}, se vor scoate cartile: {'carte4'}\n",
    "    5. Preferintele lui Georgescu sunt subset propriu al preferintelor lui Ionescu\n",
    "    \n"
   ]
  },
  {
   "cell_type": "markdown",
   "id": "combined-private",
   "metadata": {},
   "source": [
    "10.  Se da un dictionar cu persoane, si pentru fiecare persoana o lista de intervale de timp de disponibilitate. O disponibilitate incepe la o anumita ora fixa (ex: 17) sau ora fixa+30 de minute si dureaza exact 30 de minute. \n",
    "Exemplu:\n",
    "```python\n",
    "doodle = {\n",
    "\"Popescu\": [\"13\", \"13.30\", \"16\", \"17\"],  # Popescu este disponibil intre: 13 si 13.30, 13.30-14, 16-16.30, 17-17.30\n",
    "\"Ionescu\": [\"13\", \"13.30\", \"16\", \"17\", \"17.30\", \"11\", \"15\"],\n",
    "\"Maximilian\": [\"14\", \"14.30\", \"15\", \"15.30\", \"16\", \"16.30\", \"19\", \"19.30\"]\n",
    "}\n",
    "```\n",
    "Sa se determine toate intervalele in care toate persoanele sunt disponibile. Daca nu exista niciun astfel de interval, atunci sa se determine care sunt intervalele de timp in care numarul maxim de persoane poate participa. Daca sunt mai multe intervale pentru acest numar maxim de persoane, se vor da toate solutiile. In fiecare caz se da lista de persoane participante si intervalele orare.\n",
    "\n",
    "Nota: se cauta intervale de timp cu cat mai multi participanti de 30 de minute."
   ]
  }
 ],
 "metadata": {
  "kernelspec": {
   "display_name": "Python 3 (ipykernel)",
   "language": "python",
   "name": "python3"
  },
  "language_info": {
   "codemirror_mode": {
    "name": "ipython",
    "version": 3
   },
   "file_extension": ".py",
   "mimetype": "text/x-python",
   "name": "python",
   "nbconvert_exporter": "python",
   "pygments_lexer": "ipython3",
   "version": "3.9.7"
  },
  "toc": {
   "base_numbering": 1,
   "nav_menu": {},
   "number_sections": true,
   "sideBar": true,
   "skip_h1_title": false,
   "title_cell": "Table of Contents",
   "title_sidebar": "Contents",
   "toc_cell": false,
   "toc_position": {},
   "toc_section_display": true,
   "toc_window_display": false
  }
 },
 "nbformat": 4,
 "nbformat_minor": 5
}
