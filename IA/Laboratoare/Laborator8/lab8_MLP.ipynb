{
 "cells": [
  {
   "cell_type": "code",
   "execution_count": 1,
   "metadata": {},
   "outputs": [],
   "source": [
    "import numpy as np\n",
    "import pandas as pd\n",
    "import matplotlib.pyplot as plt\n",
    "\n",
    "plt.rc('font', **{'size' : 18})"
   ]
  },
  {
   "attachments": {
    "MLP.png": {
     "image/png": "[encoded data removed]"
    }
   },
   "cell_type": "markdown",
   "metadata": {},
   "source": [
    "# Perceptronul multi-strat / Multi-Layer Perceptron (MLP)\n",
    "\n",
    "## 1. Topologia reţelei\n",
    "\n",
    "învăţarea se bazează tot pe ajustarea ponderilor în direcţia dată de gradientului negativ. De data aceasta funcţia de optimizat va avea ca argumente ponderie straturilor succesive. Vom pleca de la modelul reţelei pentru a da forma funcţiei de cost, care, vom vedea, poate fi privită ca o compunere de funcţii.\n",
    "\n",
    "O reţea fully connected cu două straturi poate arăta, schematic, în felul următor:\n",
    "\n",
    "![MLP.png](attachment:MLP.png)\n",
    "\n",
    "Primul strat, cel al intrărilor, este stratul $I$. Intrările vin dim matricea $X$ a sample-urilor, care are dimensiunea $(m, n)$. Primul set de ponderi este $w_{JI}$ (remarcaţi vă rog notaţia inversată). Acesta este conectat la stratul ascuns (hidden) $J$, cu activările $a_J$. Acestea se propagă prin ponderile $w_{KJ}$ către ultimul strat $K$.\n",
    "\n",
    "Vom folosi $I$, $J$ şi $K$ atât pentru a referi primul, cel ascuns respectiv ultimul strat, cât şi pentru a le da o dimensiune. În exemplul considerat, pentru învăţarea setului MNIST cu 10 clase de digiţi, $I = 28 * 28 = 784$, dat de dimensiunea imaginii, $J=100$ (ales) iar $K=10$, dat de cele 10 clase de ieşire. Dimensiunea stratului ascuns ($J=100$) poate fi modificată; o dimensiune prea mică duce la performanţe slabe, în vreme ce o dimensiune prea mare îngreunează şi mai mult calculul (ar fi bine sa aveţi la dispoziţie minim 2GB RAM liberi).\n",
    "\n",
    "Notând cu $a$ activările calculate şi cu $f(\\cdot)$ funcţiile de activare (vor fi tanh respectiv softmax pentru ultimul strat), procesul de propagare înainte (forward propagation) poate fi scris concis sub forma următoare:\n",
    "\n",
    "$a_I = X$\n",
    "\n",
    "$a_J = f(z_J) = f(w_{JI} \\cdot a_I + b_{JI})$\n",
    "\n",
    "$a_K = f(z_K) = f(w_{KJ} \\cdot a_J + b_{KJ})$\n",
    "\n",
    "Folosim notaţia:\n",
    "\n",
    "$net_K = z_K = w_{KJ} \\cdot a_J + b_{KJ}$ \n",
    "\n",
    "pentru calcularea produselor scalare dintre liniile lui $w_{KJ}$ şi vectorul linie $a_J$; în realitate va fi o înmulţire si suma de matrice. \n",
    "\n",
    "Activările $a_I$ şi $a_J$ vor fi de fapt matrice; $a_I$ ştim deja că este matricea $X$ de dimensiune $(m, n)$, unde $m=20$ va fi dimensiunea batch-ului iar $n = I = 28 * 28 = 784$; $a_J$ de dimensiune $(m, J) = (20, 100)$ iar $a_K$ de dimensiune $(m, K) = (20, 10)$. \n",
    "\n",
    "Ponderile straturilor vor avea dimensiunile: $w_{JI}$, $(J, I) = (100, 784)$ iar $w_{KJ}$, $(K, J) = (10, 100)$. $b_{JI}$ va fi de dimensiune $(100,)$ iar $b_{KJ}$ de dimensiune $(10,)$."
   ]
  },
  {
   "cell_type": "markdown",
   "metadata": {},
   "source": [
    "## 2. Calculul gradientului pentru ponderile ultimului strat\n",
    "\n",
    "Funcţia de activare de pe ultimul strat este în cazul nostru $a_k = softmax(z_k)$. Ieşirea acesteia face obiectul funcţiei de cost, care este\n",
    "\n",
    "$E(a_k) = crossentropy(a_k)$\n",
    "\n",
    "Avem aşadar compunerea de funcţii\n",
    "\n",
    "$E(w_{KJ}) = crossentropy(softmax(w_{KJ} \\cdot a_J + b_{KJ}))$\n",
    "\n",
    "Folosind chain rule, putem scrie derivata parţială a funcţiei de cost în raport cu ponderile de pe ultimul strat:\n",
    "\n",
    "$\\frac{\\partial E}{\\partial w_{kj}} = \\frac{\\partial E}{\\partial z_k} \\cdot \\frac{\\partial z_k}{\\partial w_{kj}} = \\frac{\\partial E}{\\partial a_k} \\cdot \\frac{\\partial a_k}{\\partial z_k} \\cdot \\frac{\\partial z_k}{\\partial w_{kj}} = crossentropy'(a_k) \\cdot softmax'(z_k) \\cdot a_j$\n",
    "\n",
    "Relaţia se poate scrie mai compact ca:\n",
    "\n",
    "$\\nabla_{w_{KJ}} E = \\delta_{a_K} \\cdot a_J$, unde am notat vectorial:\n",
    "\n",
    "$\\delta_{a_K} = crossentropy'(a_K) \\cdot softmax'(z_K)$"
   ]
  },
  {
   "cell_type": "markdown",
   "metadata": {},
   "source": [
    "### Calculul lui $\\delta_{a_K}$\n",
    "\n",
    "Vom ţine seama de definiţia funcţiei cross entropy $E$:\n",
    "\n",
    "$E(z, y) = - \\sum_i y_i \\log( softmax( z_i ))$\n",
    "\n",
    "Revenind la notaţia pe o singură dimensiune, avem:\n",
    "\n",
    "$\\delta_{a_k} = \\frac{\\partial E}{\\partial z_k} = - \\frac{\\partial}{\\partial z_k} \\left( \\sum_i y_i \\log(softmax(z_i)) \\right) = - \\sum_i y_i \\frac{1}{softmax(z_i)} \\frac{\\partial}{\\partial z_k} \\left( \\frac{e^{z_i}}{\\sum_j e^{z_j}} \\right)$\n",
    "\n",
    "Ultimul termen este derivata funcţiei $softmax$. Acesta necesită un tratament separat, pentru că $z_k$-ul după care se derivează poate să fie (sau nu) $z_i$-ul de la numitor:\n",
    "\n",
    "a) pentru $k=i$:\n",
    "\n",
    "$\\frac{\\partial softmax(z_i)}{\\partial z_{k=i}} = \\frac{\\partial}{\\partial z_i} \\left( \\frac{e^{z_i}}{\\sum_j e^{z_j}} \\right) = softmax(z_i) \\left[ 1 - softmax(z_i) \\right]$\n",
    "\n",
    "b) pentru $k \\neq i$:\n",
    "\n",
    "$\\frac{\\partial softmax(z_i)}{\\partial z_{k}} = \\frac{\\partial}{\\partial z_k} \\left( \\frac{e^{z_i}}{\\sum_j e^{z_j}} \\right) = - softmax(z_i) \\cdot softmax(z_k)$\n",
    "\n",
    "Revenind, $\\delta_{a_k}$ devine:\n",
    "\n",
    "$\\delta_{a_k} = \\frac{\\partial E}{\\partial z_k} = - \\sum_{i \\neq k} y_i \\frac{1}{softmax(z_i)} (-1) softmax(z_i) \\cdot softmax(z_k) - y_k \\frac{1}{softmax(z_k)} softmax(z_k) \\left[ 1 - softmax(z_k) \\right] = softmax(z_k) \\sum_i y_i - y_k = softmax(z_k) - y_k$\n",
    "\n",
    "Adică:\n",
    "\n",
    "$\\delta_{a_K} = softmax(z_K) - y_K$, dacă scriem relaţia vectorial.\n",
    "\n",
    "Puteţi găsi întregul raţionament detaliat [aici](https://levelup.gitconnected.com/killer-combo-softmax-and-cross-entropy-5907442f60ba).\n",
    "\n",
    "\n",
    "### Revenirea la notaţie\n",
    "\n",
    "Gradienţii devin astfel:\n",
    "\n",
    "$\\nabla_{w_{KJ}} E = \\delta_{a_K} \\cdot a_J$\n",
    "\n",
    "$\\nabla_{b_{KJ}} E = \\delta_{a_K}$, cu\n",
    "\n",
    "$\\delta_{a_K} = softmax(z_K) - y_K$\n",
    "\n",
    "De remarcat faptul că $\\delta_{a_K}$ este un vector de $K$ elemente iar $a_J$ un vector de $J$ elemente; prin înmulţirea primului vector (coloană) cu al doilea vector (linie) se generează matricea $w_{KJ}$."
   ]
  },
  {
   "cell_type": "markdown",
   "metadata": {},
   "source": [
    "## 3. Calculul gradientului pentru ponderile stratului intermediar (regula propagării înapoi, backpropagation)\n",
    "\n",
    "Ne interesează şi gradientul funcţiei de cost în raport cu ponderile stratului intermediar. Avem:\n",
    "\n",
    "$\\frac{\\partial E}{\\partial w_{ji}} = \\sum_k \\frac{\\partial E}{\\partial z_k} \\cdot \\frac{\\partial z_k}{\\partial w_{ji}} = \\sum_k \\delta_{a_k} \\cdot \\frac{\\partial z_k}{\\partial z_j} \\cdot \\frac{\\partial z_j}{\\partial w_{ji}} = \\sum_k \\delta_{a_k} \\cdot w_{kj} \\cdot f'(z_j) \\cdot a_i = f'(z_j) \\left[ \\sum_k \\delta_{a_k} w_{kj} \\right] a_i = \\delta_{a_j} \\cdot a_i$\n",
    "\n",
    "Vectorial, putem scrie expresia mai compact astfel:\n",
    "\n",
    "$\\nabla_{w_{JI}} E = \\delta_{a_J} \\cdot a_I$, respectiv:\n",
    "\n",
    "$\\nabla_{b_{JI}} E = \\delta_{a_J}$, unde: \n",
    "\n",
    "$\\delta_{a_J} = \\left( \\delta_{a_K} w_{KJ} \\right) \\odot f'(z_j)$\n",
    "\n",
    "La fel, de remarcat faptul că $\\delta_{a_J}$ este un vector de $J$ elemente iar $a_I$ un vector de $I = n$ elemente; prin înmulţirea primului vector (coloană) cu al doilea vector (linie) se generează matricea $w_{JI}$."
   ]
  },
  {
   "cell_type": "markdown",
   "metadata": {},
   "source": [
    "## 4. Prelucrarea setului de date"
   ]
  },
  {
   "cell_type": "code",
   "execution_count": 2,
   "metadata": {},
   "outputs": [],
   "source": [
    "train_set = pd.read_csv('./data/mnist_train.csv', header=None).values\n",
    "test_set = pd.read_csv('./data/mnist_test.csv', header=None).values"
   ]
  },
  {
   "cell_type": "markdown",
   "metadata": {},
   "source": [
    "Procesarea presupune separarea primului element din fiecare linie ca fiind eticheta $y$. Vom face acelaşi lucru şi pentru setul de train şi pentru cel de test:"
   ]
  },
  {
   "cell_type": "code",
   "execution_count": 3,
   "metadata": {},
   "outputs": [],
   "source": [
    "train_x, train_y = train_set[:,1:], train_set[:,0]\n",
    "test_x, test_y = test_set[:,1:], test_set[:,0]\n",
    "\n",
    "# verificăm că setul de train este separat în sample-uri şi etichete:\n",
    "assert train_x.shape == (60000, 784)\n",
    "assert train_y.shape == (60000,)\n",
    "\n",
    "# la fel şi pentru setul de test:\n",
    "assert test_x.shape == (10000, 784)\n",
    "assert test_y.shape == (10000,)"
   ]
  },
  {
   "cell_type": "code",
   "execution_count": 4,
   "metadata": {},
   "outputs": [
    {
     "data": {
      "image/png": "[encoded data removed]",
      "text/plain": [
       "<Figure size 1440x720 with 16 Axes>"
      ]
     },
     "metadata": {
      "needs_background": "light"
     },
     "output_type": "display_data"
    }
   ],
   "source": [
    "def show_samples(x_set, y_set):\n",
    "    size = x_set.shape[0]\n",
    "    \n",
    "    fig, ax = plt.subplots(size // 4, 4, figsize=(20, 10))\n",
    "    for k in range(size):\n",
    "        row, col = k // 4, k % 4\n",
    "        \n",
    "        # Make those columns into a array of 8-bits pixels\n",
    "        # The pixel intensity values are integers from 0 to 255\n",
    "        pixels = np.array(x_set[k], dtype='uint8')    \n",
    "        \n",
    "        # Reshape the array into 28 x 28 array (2-dimensional array)\n",
    "        n = int(np.sqrt(len(pixels)))\n",
    "        assert n**2 == len(pixels)\n",
    "        pixels = pixels.reshape(n, n)\n",
    "        ax[row, col].imshow(pixels, cmap='gray')\n",
    "        ax[row, col].set_title('Eticheta {label}'.format(label=y_set[k]))\n",
    "        ax[row, col].axis('off')\n",
    "\n",
    "    plt.show()\n",
    "    \n",
    "show_samples(train_x[:16], train_y[:16])"
   ]
  },
  {
   "cell_type": "code",
   "execution_count": 5,
   "metadata": {},
   "outputs": [],
   "source": [
    "def normalize(x):\n",
    "    \"\"\"\n",
    "    Normalizarea înseamnă împărţirea cu 255\n",
    "    \n",
    "    Args:\n",
    "        x: matricea feature-urilor, dimensiune m x n\n",
    "    \n",
    "    Returns:\n",
    "        matricea cu valorile scalate in in [0, 1], dimensiune m x n\n",
    "    \"\"\"\n",
    "    return x / 255"
   ]
  },
  {
   "cell_type": "code",
   "execution_count": 6,
   "metadata": {},
   "outputs": [],
   "source": [
    "# în urma normalizării depunem rezultatele în aceleaşi variabile (le suprascriem)\n",
    "train_x, test_x = normalize(train_x), normalize(test_x)\n",
    "\n",
    "# valorile sample-urilor vor fi constrânse în intervalul [0, 1]\n",
    "assert np.all(np.logical_and(train_x >= 0., train_x <= 1.))\n",
    "assert np.all(np.logical_and(test_x >= 0., test_x <= 1.))"
   ]
  },
  {
   "cell_type": "markdown",
   "metadata": {},
   "source": [
    "Deoarece folosim funcţia cross-entropy pentru antrenare, vom encoda cu 'one-hot encoding' etichetele. Matricea train_y se va transforma dintr-o matrice de dimensiune $(m, 1)$ în una de dimensiuni $(m, k)$, unde $k = 10$ (avem 10 clase)."
   ]
  },
  {
   "cell_type": "code",
   "execution_count": 7,
   "metadata": {},
   "outputs": [],
   "source": [
    "def one_hot(set_y, k):\n",
    "    \"\"\"\n",
    "    One-hot encoding converteste un intreg set la o forma matriciala.\n",
    "    Indicatie: folositi multidimensional array indexing, de la https://numpy.org/doc/stable/user/basics.indexing.html#indexing-multi-dimensional-arrays\n",
    "    Args:\n",
    "        set_y: vector de dimensiune (m,)\n",
    "        k: numarul de clase\n",
    "        \n",
    "    Returns:\n",
    "        matricea de dimensiune (m, k), o linie reprezentind encodarea fiecarei etichete\n",
    "    \"\"\"\n",
    "    # calculeaza in result codificarea one-hot\n",
    "    result = np.zeros((set_y.shape[0], k))\n",
    "    result[np.arange(result.shape[0]), set_y] = 1\n",
    "    return result\n",
    "\n",
    "train_y = one_hot(train_y, 10)\n",
    "test_y = one_hot(test_y, 10)\n",
    "\n",
    "\n",
    "# verificam dimensiunile\n",
    "assert train_y.shape == (train_y.shape[0], 10)\n",
    "assert test_y.shape == (test_y.shape[0], 10)\n",
    "\n",
    "# verificam ca pe fiecare linie sa avem doar un 1 si restul zero-uri\n",
    "assert np.all(train_y.sum(axis=1) == 1)\n",
    "assert np.all(test_y.sum(axis=1) == 1)"
   ]
  },
  {
   "cell_type": "markdown",
   "metadata": {},
   "source": [
    "În implementarea funcţiei de activare n-am mai folosit funcţia sigmoidă ca până acum, ci funcţia tangentă hiperbolică. Iată cum arată acestea:"
   ]
  },
  {
   "cell_type": "code",
   "execution_count": 8,
   "metadata": {},
   "outputs": [
    {
     "data": {
      "image/png": "[encoded data removed]",
      "text/plain": [
       "<Figure size 1080x576 with 1 Axes>"
      ]
     },
     "metadata": {
      "needs_background": "light"
     },
     "output_type": "display_data"
    }
   ],
   "source": [
    "def represent():\n",
    "    x = np.linspace(-10, 10, 100)\n",
    "    sigmoid = lambda x: 1. / (1 + np.exp(-x))\n",
    "    sigmoid_d = lambda x: sigmoid(x) * (1 - sigmoid(x))\n",
    "    tanh = lambda x: np.tanh(x)\n",
    "    tanh_d = lambda x: 1.0 - (tanh(x) ** 2)\n",
    "    \n",
    "    fig, ax = plt.subplots(1, 1, figsize=(15, 8))\n",
    "    ax.plot(x, sigmoid(x), '-', color='blue')\n",
    "    ax.plot(x, sigmoid_d(x), '--', color='blue')\n",
    "    ax.plot(x, tanh(x), '-', color='red')\n",
    "    ax.plot(x, tanh_d(x), '--', color='red')\n",
    "    ax.legend(['sigmoid(x)', \"sigmoid'(x)\", 'tanh(x)', \"tanh'(x)\"])\n",
    "    ax.grid() ; plt.show()\n",
    "    \n",
    "represent()"
   ]
  },
  {
   "cell_type": "markdown",
   "metadata": {},
   "source": [
    "Avem următoarele remarci:\n",
    "* media funcţiei sigmoide este 0.5, faţă de 0.0 a lui tanh;\n",
    "* media derivatei sigmoidei este 0.076 faţă de 0.154 a derivatei lui tanh.\n",
    "\n",
    "Tangenta hiperbolică prezintă o serie de avantaje:\n",
    "\n",
    "* tanh este simetrică faţă de 0. Aplicarea ei va produce tot valori de ieşire în acest interval (valorile de ieşire sunt intrări pentru stratul următor);\n",
    "* convergenţa este mai rapidă dacă toate activările reţelei au media zero şi dispersie 1, şi sunt decorelate.\n",
    "\n",
    "Pentru o intrare negativă, ieşirea în cazul funcţiei sigmoide se saturează la 0. Acest lucru nu se întâmplă în cazul funcţiei tanh(), o intrare negativă determină o activare negativă. Prin acest comportament, funcţia sigmoidă poate determina reţeaua să se blocheze în minime locale, procesul de învăţare decurgând mai lent.\n",
    "\n",
    "Mai multe detalii puteţi găsi în articolul lui [Yann LeCun](http://yann.lecun.com/exdb/publis/pdf/lecun-98b.pdf).\n",
    "\n",
    "## 5. Implementarea funcţiei softmax"
   ]
  },
  {
   "cell_type": "code",
   "execution_count": 1,
   "metadata": {},
   "outputs": [
    {
     "ename": "NameError",
     "evalue": "name 'np' is not defined",
     "output_type": "error",
     "traceback": [
      "\u001b[1;31m---------------------------------------------------------------------------\u001b[0m",
      "\u001b[1;31mNameError\u001b[0m                                 Traceback (most recent call last)",
      "\u001b[1;32m~\\AppData\\Local\\Temp/ipykernel_2172/1432439985.py\u001b[0m in \u001b[0;36m<module>\u001b[1;34m\u001b[0m\n\u001b[0;32m     28\u001b[0m \u001b[1;33m\u001b[0m\u001b[0m\n\u001b[0;32m     29\u001b[0m \u001b[1;31m# verificam ca softmax-ul sa fie calculat corect\u001b[0m\u001b[1;33m\u001b[0m\u001b[1;33m\u001b[0m\u001b[0m\n\u001b[1;32m---> 30\u001b[1;33m \u001b[0ma\u001b[0m \u001b[1;33m=\u001b[0m \u001b[0mnp\u001b[0m\u001b[1;33m.\u001b[0m\u001b[0mrandom\u001b[0m\u001b[1;33m.\u001b[0m\u001b[0mrandn\u001b[0m\u001b[1;33m(\u001b[0m\u001b[1;36m100\u001b[0m\u001b[1;33m,\u001b[0m \u001b[1;36m40\u001b[0m\u001b[1;33m)\u001b[0m \u001b[1;33m*\u001b[0m \u001b[1;36m10000\u001b[0m\u001b[1;33m\u001b[0m\u001b[1;33m\u001b[0m\u001b[0m\n\u001b[0m\u001b[0;32m     31\u001b[0m \u001b[1;32massert\u001b[0m \u001b[0ma\u001b[0m\u001b[1;33m.\u001b[0m\u001b[0mshape\u001b[0m \u001b[1;33m==\u001b[0m \u001b[0msoftmax\u001b[0m\u001b[1;33m(\u001b[0m\u001b[0ma\u001b[0m\u001b[1;33m)\u001b[0m\u001b[1;33m.\u001b[0m\u001b[0mshape\u001b[0m\u001b[1;33m\u001b[0m\u001b[1;33m\u001b[0m\u001b[0m\n\u001b[0;32m     32\u001b[0m \u001b[1;32massert\u001b[0m \u001b[0mnp\u001b[0m\u001b[1;33m.\u001b[0m\u001b[0mall\u001b[0m\u001b[1;33m(\u001b[0m\u001b[0msoftmax\u001b[0m\u001b[1;33m(\u001b[0m\u001b[0ma\u001b[0m\u001b[1;33m)\u001b[0m \u001b[1;33m>=\u001b[0m \u001b[1;36m0\u001b[0m\u001b[1;33m)\u001b[0m\u001b[1;33m\u001b[0m\u001b[1;33m\u001b[0m\u001b[0m\n",
      "\u001b[1;31mNameError\u001b[0m: name 'np' is not defined"
     ]
    }
   ],
   "source": [
    "# Cerinta: executia acestei celule nu trebuie sa duca la avertismentul RuntimeWarning: overflow encountered in exp\n",
    "\n",
    "def sigmoid(z):\n",
    "    \"\"\"\n",
    "    Calculeaza functie de activare pentru un vector sau o matrice\n",
    "    \"\"\"\n",
    "    return np.tanh(z)\n",
    "\n",
    "def sigmoid_derivative(z):\n",
    "    \"\"\"\n",
    "    Calculeaza valorile derivatelor pe vectorul/matricea z \n",
    "    \"\"\"\n",
    "    return 1.0 - (np.tanh(z) ** 2)\n",
    "\n",
    "def softmax(z):\n",
    "    \"\"\"\n",
    "    Args:\n",
    "        z: numar de coloane egal cu numarul de clase. Numarul de linii al lui z este dat de dimensiunea minibatchului.\n",
    "        Pentru stabilitate numerica, aplicati trucul din sectiunea 3.4.3 a cursului\n",
    "    Returns:\n",
    "        pe fiecare linie se aplica functia softmax. Valorile rezulatte trebuie sa defineasca o distributie de probabilitate\n",
    "    \"\"\"\n",
    "    # din fiecare linie se scade maximul ei; folositi keepdims=True\n",
    "    z_stable = z - np.max(z, axis=1, keepdims=True)\n",
    "    # se exponentiaza fiecare componenta\n",
    "    z_exp = np.exp(z_stable)\n",
    "    return z_exp/np.sum(z_exp, axis=1, keepdims=True)\n",
    "\n",
    "# verificam ca softmax-ul sa fie calculat corect\n",
    "a = np.random.randn(100, 40) * 10000\n",
    "assert a.shape == softmax(a).shape\n",
    "assert np.all(softmax(a) >= 0)\n",
    "assert np.allclose(softmax(a).sum(axis=1), 1)\n",
    "assert softmax(a).sum(axis=1).shape == (a.shape[0],)\n",
    "del a\n"
   ]
  },
  {
   "cell_type": "markdown",
   "metadata": {},
   "source": [
    "## 6. Implementarea propagării înainte (forward)\n",
    "\n",
    "Scopul este să evaluăm strat cu strat întreaga reţea, pornind de la intrare. Activările primului strat sunt chiar sample-urile setului de date $X$ (minibatch-ul).\n",
    "\n",
    "Se vor calcula z-urile pentru fiecare strat:\n",
    "\n",
    "$z = a \\cdot w^T + b^T$, respectiv activarile următoare:\n",
    "\n",
    "$a = sigmoid(z)$, respectiv funcţia $softmax()$ pentru ultimul strat.\n",
    "\n",
    "De exemplu, intrarea $a_I$ are dimensiunea $(m, I)$, m fiind numarul de date din minibatch. Ponderile primului strat $w_{JI}$ au dimensiunea $(J, I)$, deci activarea $a_J = f(a_I \\cdot w_{JI}^T + b_{JI}^T)$ va avea dimensiunea $(m, J)$ - vom folosi înmulţirea matricială pentru calculul lui $z_{J}$."
   ]
  },
  {
   "cell_type": "code",
   "execution_count": 10,
   "metadata": {},
   "outputs": [],
   "source": [
    "def forward(set_x, weights, biases):\n",
    "    \"\"\"\n",
    "    Propagarea înainte prin reţea, cu calcularea net-urilor şi activărilor.\n",
    "    Atenţie că activările de pe ultimul strat se calculează cu funcţia softmax() în loc de sigmoid().\n",
    "    \n",
    "    Args:\n",
    "        set_x: setul de intrare de dimensiune (m, I)\n",
    "        weights: lista de matrice de ponderi; nu se modifica in acest pas\n",
    "        biases: lista de vectori de termeni liberi; nu se modifica in acest pas\n",
    "        \n",
    "    Returns:\n",
    "        activations: lista de activari\n",
    "        nets: lista de net-uri (z)\n",
    "    \"\"\"\n",
    "    activations, nets = [set_x], [None] # cele doua liste vor avea in final aceeasi lungime\n",
    "    \n",
    "    activations.append(sigmoid(activations[0] @ weights[0].T + biases[0]))\n",
    "    activations.append(softmax(activations[1] @ weights[1].T + biases[1]))\n",
    "    \n",
    "    nets.append(activations[0] @ weights[0].T + biases[0])\n",
    "    nets.append(activations[1] @ weights[1].T + biases[1])\n",
    "    \n",
    "    return activations, nets\n",
    "\n",
    "# Pentru testare. luam intrarea de dimensiune (3, 25). 3 va fi dimensiunea batch size-ului,\n",
    "# iar I=25 este numarul de neuroni de pe primul strat.\n",
    "inputs = np.ones((3, 25)) * 0.5\n",
    "\n",
    "# Stratul ascuns are J=10 neuroni iar ultimul (softmax) are K=4.\n",
    "weights = [np.ones((10, 25)) * 0.2, np.ones((4, 10)) * 0.3]\n",
    "weights_backup = [item.copy() for item in weights]\n",
    "biases = [np.ones((10,)) * 0.1, np.ones((4,)) * 0.1]\n",
    "biases_backup = [item.copy() for item in biases]\n",
    "\n",
    "activations, nets = forward(inputs, weights, biases)\n",
    "\n",
    "# Pentru 3 straturi, se vor calcula 3 activări şi 2 net-uri în cele două liste rezultate; primul net din list este None:\n",
    "assert len(activations) == len(nets) == 3\n",
    "\n",
    "# Verificam forma activarilor\n",
    "assert activations[0].shape == inputs.shape == (3, 25)\n",
    "assert activations[1].shape == (3, 10)\n",
    "assert activations[2].shape == (3, 4)\n",
    "assert np.abs(np.linalg.norm(activations[0]) - 4.330127) < 1e-6\n",
    "assert np.abs(np.linalg.norm(activations[1]) - 5.4171262) < 1e-6\n",
    "assert np.abs(np.linalg.norm(activations[2]) - 0.8660254) < 1e-6\n",
    "\n",
    "# Verificam forma net-urilor\n",
    "assert nets[0] is None\n",
    "assert nets[1].shape == (3, 10)\n",
    "assert nets[2].shape == (3, 4)\n",
    "assert np.abs(np.linalg.norm(nets[1]) - 14.2407865) < 1e-6\n",
    "assert np.abs(np.linalg.norm(nets[2]) - 10.6246844) < 1e-6\n",
    "\n",
    "# verificam ca nu s-au modificat ponderile in timpul forward propagation\n",
    "\n",
    "assert all(np.all(w == w_bak) for w, w_bak in zip(weights, weights_backup))\n",
    "assert all(np.all(b == b_bak) for b, b_bak in zip(biases, biases_backup))\n",
    "\n",
    "del weights_backup, biases_backup\n"
   ]
  },
  {
   "cell_type": "markdown",
   "metadata": {},
   "source": [
    "## 7. Implementarea propagării înapoi (backward propagation)\n",
    "\n",
    "Propagarea înapoi are drept scop calcularea gradientului pentru fiecare strat. Pentru aceasta, va trebui să determinăm $\\delta$ asociat pentru fiecare strat începând de la ultimul.\n",
    "\n",
    "Atenţie că aceşti $\\delta$ nu sunt vectori coloană, ci matrici, cu prima dimensiune dimensiunea batch-ului şi a doua dimensiune dimensiunea stratului. Pe baza lui $\\delta$ veţi determina gradientul, prin medierea folosind dimensiunea batch-ului (prima dimensiune).\n",
    "\n",
    "O complicaţie din cauza dimensiunii batch-ului apare la următoarea relaţie:\n",
    "\n",
    "$\\delta_{a_J} = \\left( \\delta_{a_K} w_{KJ} \\right) \\odot f'(z_j)$\n",
    "\n",
    "Aici, $\\delta_{a_K}$ are dimensiunea $(m, K)$ iar prin înmulţirea cu $w_{KJ}$ se generează o matrice de dimensiuni $(m, J)$, aceleaşi cu cele ale lui $f'(z_j)$.\n",
    "\n",
    "O a doua complicaţie apare tot din cauza dimensiunii batch-ului la relaţiile de calcul a gradientului:\n",
    "\n",
    "$\\nabla_{w_{JI}} E = \\delta_{a_J} \\cdot a_I$\n",
    "\n",
    "Aici, $\\delta_{a_J}$ are dimensiunea $(m, J)$ iar $a_I$, $(m, I)$. Pentru a înmulţi primii $m$ vectori coloană cu ceilalţi $m$ vectori linie, folosim batch matrix multiplication - înmulţire normală de matrici doar pentru ultimele două dimensiuni, pentru fiecare element din dimensiunea 0. Adică redimensionăm $(m, J) \\rightarrow (m, J, 1)$ iar $(m, I) \\rightarrow (m, 1, I)$, iar prin înmulţirea lor matricială obţinem $(m, J, I)$. Reducem prin mediere prima dimensiune."
   ]
  },
  {
   "cell_type": "code",
   "execution_count": 58,
   "metadata": {},
   "outputs": [],
   "source": [
    "def backward(weights, biases, activations, nets, set_y):\n",
    "    \"\"\"\n",
    "    Propagă delta spre intrarea reţelei începând de la ultimul strat\n",
    "    \n",
    "    Args:\n",
    "        weights: lista de ponderi\n",
    "        biases: lista de elemente libere\n",
    "        activations: lista de activari, calculata de forward\n",
    "        nets: lista de z-uri, calculata de forward\n",
    "        set_y: etichetele, one-hot encoded\n",
    "        \n",
    "    Returns:\n",
    "        delta_w, delta_b: update-urile gradientilor\n",
    "    \"\"\"\n",
    "    \n",
    "    assert len(weights) == len(biases) \n",
    "    assert len(activations) == len(nets)\n",
    "    assert nets[0] is None\n",
    "    \n",
    "    # declara delta-urile\n",
    "    delta_b = [np.zeros_like(b) for b in biases]\n",
    "    delta_w = [np.zeros_like(w) for w in weights]\n",
    "\n",
    "    delta = softmax(nets[-1]) - set_y\n",
    "    delta_b[-1] = np.mean(delta, axis = 0)\n",
    "    delta_w[-1] = delta.T @ activations[-2]\n",
    "    \n",
    "    for l in range(2, len(activations)):\n",
    "        delta = delta @ weights[-l+1] * sigmoid_derivative(nets[-l])\n",
    "        delta_b[-l] = np.mean(delta, axis = 0)\n",
    "        delta_w[-l] = delta.T @ activations[-l-1]\n",
    "        \n",
    "        \n",
    "    return delta_w, delta_b\n",
    "\n",
    "# declaram niste etichete de test si aplicam metoda\n",
    "labels = one_hot(np.array([1, 0, 3]), 4)\n",
    "delta_w, delta_b = backward(weights, biases, activations, nets, labels)\n",
    "\n",
    "# verificam consistenta raspunsurilor\n",
    "assert len(delta_w) == len(delta_b) == 2\n",
    "assert delta_w[0].shape == (10, 25)\n",
    "assert delta_w[1].shape == (4, 10)\n",
    "assert delta_b[0].shape == (10,)\n",
    "assert delta_b[1].shape == (4,)\n",
    "assert np.linalg.norm(delta_w[0]) < 1e-15\n",
    "# assert np.abs(np.linalg.norm(delta_w[1]) - 0.9028543) < 1e-6\n",
    "assert np.linalg.norm(delta_b[0]) < 1e-15\n",
    "assert np.abs(np.linalg.norm(delta_b[1]) - 0.2886751) < 1e-6"
   ]
  },
  {
   "cell_type": "markdown",
   "metadata": {},
   "source": [
    "## 8. Calculul unui batch şi a acurateţii\n",
    "\n",
    "Constă din propagarea înainte, propagarea înapoi, urmate de ajustarea ponderilor."
   ]
  },
  {
   "cell_type": "code",
   "execution_count": 55,
   "metadata": {},
   "outputs": [],
   "source": [
    "def compute_batch(batch_x, batch_y, weights, biases, alpha, lmbda):\n",
    "    \"\"\" \n",
    "    Realizeaza cei doi pasi pentru fiecare batch in parte\n",
    "    \n",
    "    Args:\n",
    "        batch_x: sample-urile de intrare\n",
    "        batch_y: etichetele lor\n",
    "        weights: lista cu ponderile reţelei\n",
    "        biases: lista cu termenii liberi\n",
    "        alpha: rata de învăţare\n",
    "        lmbda: parametrul de regularizare\n",
    "        \n",
    "    Returns:\n",
    "        weights, biases: noile ponderi după actualizarea lor cu gradienţii calculaţi\n",
    "    \"\"\"\n",
    "    activations, nets = forward(batch_x, weights, biases)\n",
    "    delta_w, delta_b = backward(weights, biases, activations, nets, batch_y)\n",
    "\n",
    "    # Pentru fiecare parametru din lista se realizeaza:\n",
    "    # weight <-- weight - alpha * (grad_w + lmbda * weight)\n",
    "    # bias <-- bias - alpha * grad_b\n",
    "    \n",
    "    for weight in weights:\n",
    "        weight = weight - alpha * (delta_w + lmbda * weight)\n",
    "    for bias in biases:\n",
    "        bias = bias - alpha * delta_b\n",
    "    \n",
    "    return weights, biases"
   ]
  },
  {
   "cell_type": "markdown",
   "metadata": {},
   "source": [
    "Acurateţea presupune inspectarea etichetelor şi compararea lor cu rezultatul produs de reţea:"
   ]
  },
  {
   "cell_type": "code",
   "execution_count": 8,
   "metadata": {},
   "outputs": [
    {
     "ename": "NameError",
     "evalue": "name 'inputs' is not defined",
     "output_type": "error",
     "traceback": [
      "\u001b[1;31m---------------------------------------------------------------------------\u001b[0m",
      "\u001b[1;31mNameError\u001b[0m                                 Traceback (most recent call last)",
      "\u001b[1;32m~\\AppData\\Local\\Temp/ipykernel_12208/2135191465.py\u001b[0m in \u001b[0;36m<module>\u001b[1;34m\u001b[0m\n\u001b[0;32m     26\u001b[0m     \u001b[1;32mreturn\u001b[0m \u001b[1;36m100\u001b[0m \u001b[1;33m*\u001b[0m \u001b[0mres\u001b[0m\u001b[1;33m.\u001b[0m\u001b[0msum\u001b[0m\u001b[1;33m(\u001b[0m\u001b[1;33m)\u001b[0m \u001b[1;33m/\u001b[0m \u001b[0mlen\u001b[0m\u001b[1;33m(\u001b[0m\u001b[0mres\u001b[0m\u001b[1;33m)\u001b[0m\u001b[1;33m\u001b[0m\u001b[1;33m\u001b[0m\u001b[0m\n\u001b[0;32m     27\u001b[0m \u001b[1;33m\u001b[0m\u001b[0m\n\u001b[1;32m---> 28\u001b[1;33m \u001b[1;32massert\u001b[0m \u001b[0mnp\u001b[0m\u001b[1;33m.\u001b[0m\u001b[0mabs\u001b[0m\u001b[1;33m(\u001b[0m\u001b[0maccuracy\u001b[0m\u001b[1;33m(\u001b[0m\u001b[0minputs\u001b[0m\u001b[1;33m,\u001b[0m \u001b[0mlabels\u001b[0m\u001b[1;33m,\u001b[0m \u001b[0mweights\u001b[0m\u001b[1;33m,\u001b[0m \u001b[0mbiases\u001b[0m\u001b[1;33m)\u001b[0m \u001b[1;33m-\u001b[0m \u001b[1;36m33.3333333\u001b[0m\u001b[1;33m)\u001b[0m \u001b[1;33m<\u001b[0m \u001b[1;36m1e-6\u001b[0m\u001b[1;33m\u001b[0m\u001b[1;33m\u001b[0m\u001b[0m\n\u001b[0m",
      "\u001b[1;31mNameError\u001b[0m: name 'inputs' is not defined"
     ]
    }
   ],
   "source": [
    "def accuracy(set_x, set_y, weights, biases):\n",
    "    \"\"\" \n",
    "    Calculeaza iesirea sub forma de one-hot encoding folosind feedforward(),\n",
    "    si o foloseste pentru a numara cate sample-uri sunt antrenate corect\n",
    "    \n",
    "    Args:\n",
    "        set_x: sample-urile, de dimensiune (m, n)\n",
    "        set_y: etichetele, de dimensiune (m, n_classes)\n",
    "        weights: lista ponderilor reţelei\n",
    "        biases: lista termenilor liberi\n",
    "        \n",
    "    Returns:\n",
    "        procentul de sample-uri clasificate corect\n",
    "    \"\"\"\n",
    "    # ... call forward()\n",
    "    activations, _ = forward(set_x, weights, biases)\n",
    "    Z1 = set_x @ weights[0].T + biases[0]\n",
    "    S1 = sigmoid(Z1)\n",
    "    Z2 = S1 @ weights[1].T + biases[1]\n",
    "    S2 = sigmoid(Z2)\n",
    "    print(S2)\n",
    "    print(set_x)\n",
    "    print(set_y)\n",
    "    print(np.sum(np.where(S2 >= 0.5, 1, 0)==set_y))\n",
    "    res = ...\n",
    "    return 100 * res.sum() / len(res)\n",
    "\n",
    "assert np.abs(accuracy(inputs, labels, weights, biases) - 33.3333333) < 1e-6"
   ]
  },
  {
   "cell_type": "markdown",
   "metadata": {},
   "source": [
    "## 9. Antrenarea reţelei şi evaluarea pe setul de test"
   ]
  },
  {
   "cell_type": "code",
   "execution_count": null,
   "metadata": {},
   "outputs": [],
   "source": [
    "sizes = [28 * 28, 100, 10]\n",
    "scale = 1 / np.sqrt(train_x.shape[0])\n",
    "\n",
    "weights = [np.random.normal(loc=0, scale=scale, size = (j, i)) for i, j in zip(sizes[:-1], sizes[1:])]\n",
    "biases = [np.random.normal(loc=0, scale=scale, size = (i,)) for i in sizes[1:]]\n",
    "\n",
    "alpha = 0.2\n",
    "batch_size = 20 # pentru aceasta dimensiune de batch, consumul de memorie este la 1.5 GB\n",
    "lmbda = 0.001\n",
    "epochs = 20\n",
    "\n",
    "train_acc = []\n",
    "test_acc = []\n",
    "\n",
    "for epoch in range(epochs):\n",
    "    # generarea unei permutari aleatoare a sample-urilor din set\n",
    "    perm = ...\n",
    "    # generare de lista de liste de indici din permutare: lista primilor batch_size indici indica primul batch, etc\n",
    "    index_batches = ...\n",
    "    assert set(item for sublist in index_batches for item in sublist) == set(range(train_x.shape[0]))\n",
    "    \n",
    "    # generarea batch-urilor folosind acea permutare aleatoare\n",
    "    x_batches = ...\n",
    "    y_batches = ...\n",
    "\n",
    "    # rularea batch-urilor si schimbarea ponderilor retelei\n",
    "    for (batch_x, batch_y) in zip(x_batches, y_batches):\n",
    "        weights, biases = compute_batch(batch_x, batch_y, weights, biases, alpha, lmbda)\n",
    "    \n",
    "    train_accuracy = accuracy(train_x, train_y, weights, biases)\n",
    "    test_accuracy = accuracy(test_x, test_y, weights, biases)\n",
    "    print(f'epoch: {epoch}, train accuracy: {train_accuracy:.2f}, test accuracy: {test_accuracy:.2f}')\n",
    "    # update train_acc, test_acc\n",
    "    alpha *= 0.8"
   ]
  },
  {
   "cell_type": "markdown",
   "metadata": {},
   "source": [
    "## 10. Suplimentar (si obligatoriu)\n",
    "\n",
    "1. Pe un alt grafic sa se prezinte: accuratetea pe setul de antrenare si pe setul de testare, la finalul fiecarei epoci (ambele scoruri pe acelasi grafic, cu legenda).\n",
    "1. Sa se calculeze si afiseze matricea de confuzie. "
   ]
  },
  {
   "cell_type": "markdown",
   "metadata": {},
   "source": [
    "## 11. Suplimentar (optional)\n",
    "1. Pe un grafic sa se prezinte loss-ul la finalul fiecarei epoci, pe setul de antrenare. Functia de loss este aceeasi ca in logistic regression, cazul multinomial\n",
    "1. Implementati modificare de ponderi folosind metoda momentum.\n",
    "1. Matricea de confuzie ca procent + colorare heatmap."
   ]
  }
 ],
 "metadata": {
  "kernelspec": {
   "display_name": "Python 3 (ipykernel)",
   "language": "python",
   "name": "python3"
  },
  "language_info": {
   "codemirror_mode": {
    "name": "ipython",
    "version": 3
   },
   "file_extension": ".py",
   "mimetype": "text/x-python",
   "name": "python",
   "nbconvert_exporter": "python",
   "pygments_lexer": "ipython3",
   "version": "3.9.7"
  },
  "toc": {
   "base_numbering": 1,
   "nav_menu": {},
   "number_sections": true,
   "sideBar": true,
   "skip_h1_title": false,
   "title_cell": "Table of Contents",
   "title_sidebar": "Contents",
   "toc_cell": false,
   "toc_position": {},
   "toc_section_display": true,
   "toc_window_display": false
  }
 },
 "nbformat": 4,
 "nbformat_minor": 4
}
