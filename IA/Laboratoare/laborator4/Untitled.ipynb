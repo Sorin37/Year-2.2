{
 "cells": [
  {
   "cell_type": "code",
   "execution_count": 1,
   "id": "5f08aa93",
   "metadata": {},
   "outputs": [],
   "source": [
    "import numpy as np\n",
    "\n",
    "\n"
   ]
  },
  {
   "cell_type": "code",
   "execution_count": 2,
   "id": "0a3c609e",
   "metadata": {},
   "outputs": [],
   "source": [
    "y = np.random.randint(0, 5, 10)"
   ]
  },
  {
   "cell_type": "code",
   "execution_count": 3,
   "id": "6c8216f5",
   "metadata": {},
   "outputs": [
    {
     "data": {
      "text/plain": [
       "array([0, 3, 0, 4, 2, 2, 0, 2, 1, 0])"
      ]
     },
     "execution_count": 3,
     "metadata": {},
     "output_type": "execute_result"
    }
   ],
   "source": [
    "y"
   ]
  },
  {
   "cell_type": "code",
   "execution_count": 4,
   "id": "816391c2",
   "metadata": {},
   "outputs": [],
   "source": [
    "labels_0_1_train = y < 2"
   ]
  },
  {
   "cell_type": "code",
   "execution_count": 5,
   "id": "59f75fad",
   "metadata": {},
   "outputs": [
    {
     "data": {
      "text/plain": [
       "array([ True, False,  True, False, False, False,  True, False,  True,\n",
       "        True])"
      ]
     },
     "execution_count": 5,
     "metadata": {},
     "output_type": "execute_result"
    }
   ],
   "source": [
    "labels_0_1_train"
   ]
  },
  {
   "cell_type": "code",
   "execution_count": 6,
   "id": "1597f6a0",
   "metadata": {},
   "outputs": [],
   "source": [
    "x = np.random.rand(10, 784)"
   ]
  },
  {
   "cell_type": "code",
   "execution_count": 8,
   "id": "d99febc2",
   "metadata": {},
   "outputs": [
    {
     "data": {
      "text/plain": [
       "(5, 784)"
      ]
     },
     "execution_count": 8,
     "metadata": {},
     "output_type": "execute_result"
    }
   ],
   "source": [
    "x[labels_0_1_train, :].shape"
   ]
  },
  {
   "cell_type": "code",
   "execution_count": null,
   "id": "9724499d",
   "metadata": {},
   "outputs": [],
   "source": []
  }
 ],
 "metadata": {
  "kernelspec": {
   "display_name": "Python 3 (ipykernel)",
   "language": "python",
   "name": "python3"
  },
  "language_info": {
   "codemirror_mode": {
    "name": "ipython",
    "version": 3
   },
   "file_extension": ".py",
   "mimetype": "text/x-python",
   "name": "python",
   "nbconvert_exporter": "python",
   "pygments_lexer": "ipython3",
   "version": "3.9.7"
  }
 },
 "nbformat": 4,
 "nbformat_minor": 5
}
