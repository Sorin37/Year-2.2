{
 "cells": [
  {
   "cell_type": "code",
   "execution_count": 132,
   "metadata": {},
   "outputs": [],
   "source": [
    "import numpy as np\n",
    "import pandas\n",
    "import matplotlib.pyplot as plt\n",
    "\n",
    "def read():\n",
    "    df_train= pandas.read_csv('mnist_train.csv')\n",
    "    df_test= pandas.read_csv('mnist_test.csv')\n",
    "    \n",
    "    train= df_train.values\n",
    "    test= df_test.values\n",
    "    \n",
    "    y_train= train[:,:1]\n",
    "    y_test= test[:,:1]\n",
    "    \n",
    "    x_train=train[:,1:]\n",
    "    x_test=test[:,1:]\n",
    "    \n",
    "    return x_train, y_train, x_test, y_test\n",
    "\n",
    "X_train, y_train, X_test, y_test= read()\n",
    "\n",
    "\n",
    "\n",
    "    "
   ]
  },
  {
   "cell_type": "code",
   "execution_count": 133,
   "metadata": {},
   "outputs": [],
   "source": [
    "def appendColumn(mat):\n",
    "    return np.insert(mat,0,1,axis=1)"
   ]
  },
  {
   "cell_type": "code",
   "execution_count": 134,
   "metadata": {},
   "outputs": [],
   "source": [
    "def filter_data(number1, number2, mat, y):\n",
    "    aux= np.squeeze(np.asarray(y))\n",
    "    new_mat= mat[(aux==number1)|(aux==number2),:]\n",
    "    new_y=y[(aux==number1)|(aux==number2),:]\n",
    "    return new_mat, new_y"
   ]
  },
  {
   "cell_type": "code",
   "execution_count": 135,
   "metadata": {},
   "outputs": [],
   "source": [
    "def scale(mat):\n",
    "    y=(mat-mat.mean())/mat.mean()\n",
    "    return y\n",
    "    "
   ]
  },
  {
   "cell_type": "code",
   "execution_count": 136,
   "metadata": {},
   "outputs": [],
   "source": [
    "def hypothesis(x, theta):\n",
    "    aux= np.dot(x, np.transpose(theta))\n",
    "    aux= scale(aux)\n",
    "    return 1/(1+np.exp(-aux))"
   ]
  },
  {
   "cell_type": "code",
   "execution_count": 137,
   "metadata": {},
   "outputs": [],
   "source": [
    "def cost(y, x,theta, lam):\n",
    "    h = hypothesis(x,theta)\n",
    "    return -(y*np.log(h)+(1-y)*np.log(1-h)).mean()\n",
    "# +np.sum(np.power(theta,2))*lam/(2*x.shape[1])"
   ]
  },
  {
   "cell_type": "code",
   "execution_count": 138,
   "metadata": {},
   "outputs": [],
   "source": [
    "def gradient_descent(x,y):\n",
    "    theta=np.random.rand(1,x.shape[1])\n",
    "    nr_it=50\n",
    "    lam=0.1\n",
    "    alfa=10000\n",
    "    m=y.shape[0]\n",
    "    eroare=np.zeros(nr_it)\n",
    "    for i in range (0,nr_it):\n",
    "        grad=np.dot(x.T,(hypothesis(x,theta)-y))\n",
    "        theta=theta-(alfa*grad.T)*(1/m)\n",
    "        eroare[i]=cost(y,x,theta.copy(),lam)\n",
    "    return eroare,nr_it,theta"
   ]
  },
  {
   "cell_type": "code",
   "execution_count": 139,
   "metadata": {},
   "outputs": [
    {
     "data": {
      "image/png": "[encoded data removed]",
      "text/plain": [
       "<Figure size 360x360 with 1 Axes>"
      ]
     },
     "metadata": {
      "needs_background": "light"
     },
     "output_type": "display_data"
    },
    {
     "name": "stdout",
     "output_type": "stream",
     "text": [
      "[[0.47009147]\n",
      " [0.5597106 ]\n",
      " [0.46229445]\n",
      " ...\n",
      " [0.57834633]\n",
      " [0.45543666]\n",
      " [0.37176205]] 0.8041153981294582 0.32465626904289824\n",
      "y [[1]\n",
      " [2]\n",
      " [1]\n",
      " ...\n",
      " [2]\n",
      " [2]\n",
      " [1]]\n",
      "[[False]\n",
      " [ True]\n",
      " [False]\n",
      " ...\n",
      " [ True]\n",
      " [False]\n",
      " [False]]\n",
      "82.04724409448819\n",
      "10420 12700\n",
      "[[0.50662022]\n",
      " [0.39308495]\n",
      " [0.44338134]\n",
      " ...\n",
      " [0.6047119 ]\n",
      " [0.49192277]\n",
      " [0.67073764]] 0.7644520845010554 0.33381297468989946\n",
      "y [[2]\n",
      " [1]\n",
      " [1]\n",
      " ...\n",
      " [2]\n",
      " [1]\n",
      " [2]]\n",
      "[[ True]\n",
      " [False]\n",
      " [False]\n",
      " ...\n",
      " [ True]\n",
      " [False]\n",
      " [ True]]\n",
      "81.81818181818181\n",
      "1773 2167\n"
     ]
    }
   ],
   "source": [
    "def main():\n",
    "    mat,y=filter_data(1,2,X_train,y_train)\n",
    "    mat=appendColumn(mat)\n",
    "    theta=np.random.rand(1,mat.shape[1])\n",
    "    eroare,nr_iteratii,t=gradient_descent(mat,y)\n",
    "    plt.figure(figsize=(5,5))\n",
    "    plt.plot(np.arange(nr_iteratii),eroare,'red')\n",
    "    plt.show()\n",
    "    \n",
    "    h=hypothesis(mat,t)\n",
    "    print(h,np.max(h),np.min(h))\n",
    "    print('y',y)\n",
    "    \n",
    "    aux1=h>0.5\n",
    "    print(aux1)\n",
    "    aux2=y==2\n",
    "    contor=0\n",
    "    for i in range (0,len(y)):\n",
    "        if (aux1[i]==aux2[i]):\n",
    "            contor+=1\n",
    "    print(100*contor/(len(y)))\n",
    "    \n",
    "    print(contor,len(y))\n",
    "    \n",
    "    test,y_t=filter_data(1,2,X_test,y_test)\n",
    "    test=appendColumn(test)\n",
    "    \n",
    "    h_test=hypothesis(test,t)\n",
    "    print(h_test,np.max(h_test),np.min(h_test))\n",
    "    print('y',y_t)\n",
    "    \n",
    "    aux1=h_test>0.5\n",
    "    print(aux1)\n",
    "    aux2=y_t==2\n",
    "    contor=0\n",
    "    for i in range (0,len(y_t)):\n",
    "        if (aux1[i]==aux2[i]):\n",
    "            contor+=1\n",
    "    print(100*contor/(len(y_t)))\n",
    "    \n",
    "    print(contor,len(y_t))\n",
    "    \n",
    "main()"
   ]
  }
 ],
 "metadata": {
  "kernelspec": {
   "display_name": "Python 3",
   "language": "python",
   "name": "python3"
  },
  "language_info": {
   "codemirror_mode": {
    "name": "ipython",
    "version": 3
   },
   "file_extension": ".py",
   "mimetype": "text/x-python",
   "name": "python",
   "nbconvert_exporter": "python",
   "pygments_lexer": "ipython3",
   "version": "3.7.2"
  }
 },
 "nbformat": 4,
 "nbformat_minor": 2
}
