{
 "cells": [
  {
   "cell_type": "code",
   "execution_count": 193,
   "metadata": {},
   "outputs": [],
   "source": [
    "import pandas \n",
    "import matplotlib.pyplot as plt\n",
    "import numpy as np\n",
    "\n",
    "\n",
    "def read():\n",
    "    dataframe_train=pandas.read_csv('mnist_train.csv')\n",
    "    dataframe_test=pandas.read_csv('mnist_test.csv')\n",
    "    \n",
    "    data_train=dataframe_train.values\n",
    "    data_test=dataframe_test.values\n",
    "    \n",
    "    y_train=data_train[:,:1]\n",
    "    y_test=data_test[:,:1]\n",
    "    \n",
    "    data_train=data_train[:,1:]\n",
    "    data_test=data_test[:,1:]\n",
    "    \n",
    "    return data_train,y_train,data_test,y_test\n",
    "\n",
    "x_train,y_train,x_test,y_test=read()"
   ]
  },
  {
   "cell_type": "code",
   "execution_count": 194,
   "metadata": {},
   "outputs": [],
   "source": [
    "def extra_col(mat):\n",
    "    mat2=np.ones((len(mat),1+len(mat[0])))\n",
    "    mat2[:,1:]=mat[:,:]\n",
    "    return mat2"
   ]
  },
  {
   "cell_type": "code",
   "execution_count": 195,
   "metadata": {},
   "outputs": [],
   "source": [
    "def scale(mat):\n",
    "    y=(mat-mat.mean())/mat.mean()\n",
    "    return y"
   ]
  },
  {
   "cell_type": "code",
   "execution_count": 196,
   "metadata": {},
   "outputs": [],
   "source": [
    "def oneHot(y,k): \n",
    "    new_y= np.zeros((y.shape[0],k))\n",
    "    for i in range (0,y.shape[0]):\n",
    "        new_y[i,int(y[i,0])]=1\n",
    "    return new_y"
   ]
  },
  {
   "cell_type": "code",
   "execution_count": 197,
   "metadata": {},
   "outputs": [],
   "source": [
    "def softmax(y):\n",
    "    return np.exp(y)/np.sum(np.exp(y))"
   ]
  },
  {
   "cell_type": "code",
   "execution_count": 198,
   "metadata": {},
   "outputs": [],
   "source": [
    "def cost(x,y,teta,lam):\n",
    "    m=-1/x.shape[0]\n",
    "    return m*np.sum(np.sum(y*np.log(softmax(np.dot(x,teta)))))#+ lam/2*np.sum(np.sum(np.power(teta,2)))"
   ]
  },
  {
   "cell_type": "code",
   "execution_count": 199,
   "metadata": {},
   "outputs": [],
   "source": [
    "def gradient(x,y,teta,lam):\n",
    "    m,n=np.shape(x)\n",
    "    \n",
    "    aux=teta.copy()\n",
    "    aux[0,:]=0\n",
    "    return (-1/m)*(np.dot(x.T,y-softmax(np.dot(x,teta))))#+lam/m*aux"
   ]
  },
  {
   "cell_type": "code",
   "execution_count": 200,
   "metadata": {},
   "outputs": [],
   "source": [
    "def gradient_descent(x,y,k):\n",
    "    teta=np.random.rand(x.shape[1],k)\n",
    "    alfa=0.15\n",
    "    lam=0.8\n",
    "    nr_it=100\n",
    "    eroare=np.zeros(nr_it)\n",
    "    for i in range(0,nr_it):\n",
    "        teta-=alfa*gradient(x,y,teta,lam)\n",
    "        eroare[i]=cost(x,y,teta,lam)\n",
    "    return teta,eroare,nr_it"
   ]
  },
  {
   "cell_type": "code",
   "execution_count": 201,
   "metadata": {},
   "outputs": [
    {
     "data": {
      "image/png": "[encoded data removed]",
      "text/plain": [
       "<Figure size 360x360 with 1 Axes>"
      ]
     },
     "metadata": {
      "needs_background": "light"
     },
     "output_type": "display_data"
    },
    {
     "name": "stdout",
     "output_type": "stream",
     "text": [
      "test accuracy  67.80678067806781\n"
     ]
    }
   ],
   "source": [
    "clase=10\n",
    "y_train=oneHot(y_train,clase)\n",
    "y_test=oneHot(y_test,clase)\n",
    "    \n",
    "x_train=x_train/255\n",
    "x_test=x_test/255\n",
    "    \n",
    "x_train=extra_col(x_train)\n",
    "x_test=extra_col(x_test)\n",
    "    \n",
    "theta,eroare,nr_it=gradient_descent(x_train,y_train,clase)\n",
    "\n",
    "plt.figure(figsize=(5,5))\n",
    "plt.plot(range(nr_it),eroare,'red')\n",
    "plt.show()\n",
    "\n",
    "h=softmax(np.dot(x_test,theta))\n",
    "\n",
    "h=np.argmax(h,axis=1)\n",
    "\n",
    "h=h.reshape(h.shape[0],1)\n",
    "\n",
    "h=oneHot(h,10)\n",
    "\n",
    "contor=0\n",
    "for i in range (len(h)):\n",
    "    if np.argmax(h[i])==np.argmax(y_test[i]):\n",
    "        contor+=1\n",
    "        \n",
    "print(\"test accuracy \",100*contor/len(y_test))"
   ]
  },
  {
   "cell_type": "code",
   "execution_count": null,
   "metadata": {},
   "outputs": [],
   "source": []
  },
  {
   "cell_type": "code",
   "execution_count": null,
   "metadata": {},
   "outputs": [],
   "source": []
  }
 ],
 "metadata": {
  "kernelspec": {
   "display_name": "Python 3",
   "language": "python",
   "name": "python3"
  },
  "language_info": {
   "codemirror_mode": {
    "name": "ipython",
    "version": 3
   },
   "file_extension": ".py",
   "mimetype": "text/x-python",
   "name": "python",
   "nbconvert_exporter": "python",
   "pygments_lexer": "ipython3",
   "version": "3.7.2"
  }
 },
 "nbformat": 4,
 "nbformat_minor": 2
}
